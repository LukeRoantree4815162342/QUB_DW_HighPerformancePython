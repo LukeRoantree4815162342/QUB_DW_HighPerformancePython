{
 "cells": [
  {
   "cell_type": "markdown",
   "metadata": {},
   "source": [
    "## Before using this notebook:\n",
    "\n",
    "### run \n",
    "```\n",
    "$ pythran pythran_example1.py\n",
    "```\n",
    "in order to convert the python code in 'pythran_example.py' to C++. (will generate a .so file)\n",
    "\n",
    "### What's in this file?\n",
    "Just one function, for finding the minimum product of pairs in two lists, with a comment to tell pythran the data types;\n",
    "\n",
    "```\n",
    "#pythran export min_product(float32 list, float32 list)\n",
    "def min_product(arr1, arr2):\n",
    "    assert (len(arr1) == len(arr2)), 'mismatch in dimensions'\n",
    "    return min([a*b for a,b in zip(arr1,arr2)])\n",
    "\n",
    "```"
   ]
  },
  {
   "cell_type": "code",
   "execution_count": 1,
   "metadata": {},
   "outputs": [],
   "source": [
    "import numpy as np\n",
    "import pythran_example1 as pe1"
   ]
  },
  {
   "cell_type": "markdown",
   "metadata": {},
   "source": [
    "### Let's test our pythranized function;"
   ]
  },
  {
   "cell_type": "code",
   "execution_count": 5,
   "metadata": {},
   "outputs": [
    {
     "ename": "TypeError",
     "evalue": "Invalid call to pythranized function `min_product(list, list)'\nCandidates are:\n   min_product(float32 list,float32 list)\n",
     "output_type": "error",
     "traceback": [
      "\u001b[0;31m---------------------------------------------------------------------------\u001b[0m",
      "\u001b[0;31mTypeError\u001b[0m                                 Traceback (most recent call last)",
      "\u001b[0;32m<ipython-input-5-11e7ce53461b>\u001b[0m in \u001b[0;36m<module>\u001b[0;34m()\u001b[0m\n\u001b[0;32m----> 1\u001b[0;31m \u001b[0mpe\u001b[0m\u001b[0;34m.\u001b[0m\u001b[0mmin_product\u001b[0m\u001b[0;34m(\u001b[0m\u001b[0;34m[\u001b[0m\u001b[0;36m1.2\u001b[0m\u001b[0;34m,\u001b[0m\u001b[0;36m1.4\u001b[0m\u001b[0;34m,\u001b[0m\u001b[0;36m99\u001b[0m\u001b[0;34m,\u001b[0m\u001b[0;36m55\u001b[0m\u001b[0;34m,\u001b[0m\u001b[0;36m1.00000002\u001b[0m\u001b[0;34m]\u001b[0m\u001b[0;34m,\u001b[0m\u001b[0;34m[\u001b[0m\u001b[0;36m88\u001b[0m\u001b[0;34m,\u001b[0m\u001b[0;36m77\u001b[0m\u001b[0;34m,\u001b[0m\u001b[0;36m66\u001b[0m\u001b[0;34m,\u001b[0m\u001b[0;36m55\u001b[0m\u001b[0;34m,\u001b[0m\u001b[0;36m44\u001b[0m\u001b[0;34m]\u001b[0m\u001b[0;34m)\u001b[0m\u001b[0;34m\u001b[0m\u001b[0;34m\u001b[0m\u001b[0m\n\u001b[0m",
      "\u001b[0;31mTypeError\u001b[0m: Invalid call to pythranized function `min_product(list, list)'\nCandidates are:\n   min_product(float32 list,float32 list)\n"
     ]
    }
   ],
   "source": [
    "pe1.min_product([1.2,1.4,99,55,1.00000002],[88,77,66,55,44])"
   ]
  },
  {
   "cell_type": "markdown",
   "metadata": {},
   "source": [
    "### Not ideal, what happened?\n",
    "\n",
    "We told pythran to expect float32 variables, but some of our elements were lists. In pure Python that's fine, but not with pythran. Can we still use the function though?"
   ]
  },
  {
   "cell_type": "code",
   "execution_count": 6,
   "metadata": {},
   "outputs": [
    {
     "data": {
      "text/plain": [
       "44.0"
      ]
     },
     "execution_count": 6,
     "metadata": {},
     "output_type": "execute_result"
    }
   ],
   "source": [
    "pe1.min_product([1.2,1.4,99.,55.,1.00000002],[88.,77.,66.,55.,44.]) # Note: added '.' after each int element"
   ]
  },
  {
   "cell_type": "markdown",
   "metadata": {},
   "source": [
    "### Yay, so as long as we type carefully / cast beforehand we're grand.\n",
    "### Now let's see how much faster the pythranized one is:"
   ]
  },
  {
   "cell_type": "code",
   "execution_count": 7,
   "metadata": {},
   "outputs": [
    {
     "name": "stdout",
     "output_type": "stream",
     "text": [
      "1.12 µs ± 21.2 ns per loop (mean ± std. dev. of 7 runs, 1000000 loops each)\n",
      "1.3 µs ± 7.31 ns per loop (mean ± std. dev. of 7 runs, 1000000 loops each)\n"
     ]
    }
   ],
   "source": [
    "import timeit\n",
    "\n",
    "def min_product_pure_python(arr1, arr2):\n",
    "    assert (len(arr1) == len(arr2)), 'mismatch in dimensions'\n",
    "    return min([a*b for a,b in zip(arr1,arr2)])\n",
    "\n",
    "%timeit pe1.min_product([1.2,1.4,99.,55.,1.00000002],[88.,77.,66.,55.,44.]) \n",
    "%timeit min_product_pure_python([1.2,1.4,99.,55.,1.00000002],[88.,77.,66.,55.,44.]) "
   ]
  },
  {
   "cell_type": "markdown",
   "metadata": {},
   "source": [
    "### Barely a difference; let's try with some much bigger lists;"
   ]
  },
  {
   "cell_type": "code",
   "execution_count": 10,
   "metadata": {},
   "outputs": [
    {
     "name": "stdout",
     "output_type": "stream",
     "text": [
      "30.1 ms ± 367 µs per loop (mean ± std. dev. of 7 runs, 10 loops each)\n",
      "128 ms ± 186 µs per loop (mean ± std. dev. of 7 runs, 10 loops each)\n"
     ]
    }
   ],
   "source": [
    "import numpy as np\n",
    "\n",
    "test_a = [i for i in np.random.rand(1000000)] # we can't pass a numpy a pythran TypeError - we said we'd use a list\n",
    "test_b = [i for i in np.random.rand(1000000)]\n",
    "\n",
    "%timeit pe.min_product(test_a, test_b) \n",
    "%timeit min_product_pure_python(test_a, test_b) "
   ]
  },
  {
   "cell_type": "markdown",
   "metadata": {},
   "source": [
    "### That's a bit more like it - over 4 times as fast, and with only adding a comment to tell pythran the types"
   ]
  },
  {
   "cell_type": "markdown",
   "metadata": {},
   "source": [
    "### So, useful - but nothing we couldn't do easily already with Cython. \n",
    "### Let's do something that's a bit trickier with Cython - using Numpy stuff as well"
   ]
  },
  {
   "cell_type": "code",
   "execution_count": 2,
   "metadata": {},
   "outputs": [],
   "source": [
    "# I've borrowed this example from Pythran's documentation\n",
    "# We'll ake the pure python version first:\n",
    "\n",
    "import numpy as np\n",
    "def arc_dist(theta1, phi1, theta2, phi2):\n",
    "    temp = (np.sin((theta2-theta1)/2)**2 + \n",
    "           (np.cos(theta1)*np.cos(theta2)) * np.sin((phi2-phi1)/2)**2)\n",
    "    return 2 * np.arctan2(np.sqrt(temp), np.sqrt(1-temp))\n",
    "\n",
    "'''\n",
    "And our pythran version (will be pretty much the exact same:\n",
    "\n",
    "#pythran export arc_dist(float[], float[], float[], float[])\n",
    "import numpy as np\n",
    "def arc_dist(theta1, phi1, theta2, phi2):\n",
    "    temp = (np.sin((theta2-theta1)/2)**2 + \n",
    "           (np.cos(theta1)*np.cos(theta2)) * np.sin((phi2-phi1)/2)**2)\n",
    "    return 2 * np.arctan2(np.sqrt(temp), np.sqrt(1-temp))\n",
    "''';"
   ]
  },
  {
   "cell_type": "markdown",
   "metadata": {},
   "source": [
    "### Okay, run \n",
    "```\n",
    "$ pythran pythran_example2.py\n",
    "```\n",
    "### to compile this one, then let's compare them;"
   ]
  },
  {
   "cell_type": "code",
   "execution_count": 3,
   "metadata": {},
   "outputs": [
    {
     "name": "stdout",
     "output_type": "stream",
     "text": [
      "11.2 ms ± 551 µs per loop (mean ± std. dev. of 7 runs, 100 loops each)\n",
      "18.9 ms ± 397 µs per loop (mean ± std. dev. of 7 runs, 100 loops each)\n"
     ]
    }
   ],
   "source": [
    "import pythran_example2 as pe2\n",
    "\n",
    "theta_1 = np.random.rand(100000)*np.pi # we can't pass a numpy a pythran TypeError - we said we'd use a list\n",
    "theta_2 = np.random.rand(100000)*np.pi # we can't pass a numpy a pythran TypeError - we said we'd use a list\n",
    "\n",
    "phi_1 = np.random.rand(100000)*np.pi*2 - np.pi\n",
    "phi_2 = np.random.rand(100000)*np.pi*2 - np.pi\n",
    "\n",
    "%timeit pe2.arc_dist(theta_1,phi_1,theta_2,phi_2) \n",
    "%timeit arc_dist(theta_1,phi_1,theta_2,phi_2) "
   ]
  },
  {
   "cell_type": "markdown",
   "metadata": {},
   "source": [
    "### A bit of an improvement, but can we do better?\n",
    "### We can! we can tell pythran to try to vectorize and parallelise the loops;\n",
    "\n",
    "We've already got a pythran_example2 module created and imported so we're going to give this version a new name with the '-o' flag in the pythran command; run\n",
    "```\n",
    "$ pythran -O5 -fopenmp -march=native pythran_example2.py -o pythran_example2_opt.so\n",
    "```\n",
    "*flags*\n",
    "* -O5 : optimisation level 5\n",
    "* -fopenmp : use openmp to parallelise\n",
    "* -march=native : target archietecture compatability for whatever chip you're currently using\n",
    "\n",
    "And let's test it now;"
   ]
  },
  {
   "cell_type": "code",
   "execution_count": 4,
   "metadata": {},
   "outputs": [
    {
     "name": "stdout",
     "output_type": "stream",
     "text": [
      "5.25 ms ± 324 µs per loop (mean ± std. dev. of 7 runs, 100 loops each)\n"
     ]
    }
   ],
   "source": [
    "import pythran_example2_opt as pe2opt\n",
    "%timeit pe2opt.arc_dist(theta_1,phi_1,theta_2,phi_2) "
   ]
  },
  {
   "cell_type": "markdown",
   "metadata": {},
   "source": [
    "### Twice as fast! And if you have a better processor than my laptop does (or access to a server cluster) you'll see a much bigger improvement.\n",
    "\n",
    "### So far this has mostly been using external files and commands, but pythran does have some jupyter-specific functionalities, similar to cython - we'll quickly look at them now."
   ]
  },
  {
   "cell_type": "code",
   "execution_count": 5,
   "metadata": {},
   "outputs": [
    {
     "name": "stderr",
     "output_type": "stream",
     "text": [
      "WARNING: Disabling color, you really want to install colorlog.\n"
     ]
    }
   ],
   "source": [
    "%load_ext pythran.magic "
   ]
  },
  {
   "cell_type": "code",
   "execution_count": 14,
   "metadata": {},
   "outputs": [],
   "source": [
    "%%pythran -O2 -fopenmp # pass arguments like this (note no brackets - unlike some tutorials)\n",
    "                       # This is a python3 update / change I *think*, python2 may still use\n",
    "                       # %%pythran(-O2 -fopenmp) type syntax\n",
    "\n",
    "#pythran export average(float[]) # .so file generated named 'pythranised_<some sha1 hash>.so'\n",
    "def average(nums): \n",
    "    running_total = 0\n",
    "    for num in nums:\n",
    "        running_total += num\n",
    "    return running_total/len(nums)"
   ]
  },
  {
   "cell_type": "code",
   "execution_count": 15,
   "metadata": {},
   "outputs": [],
   "source": [
    "def average_pure_python(nums): \n",
    "    running_total = 0\n",
    "    for num in nums:\n",
    "        running_total += num\n",
    "    return running_total/len(nums)"
   ]
  },
  {
   "cell_type": "code",
   "execution_count": 16,
   "metadata": {},
   "outputs": [
    {
     "name": "stdout",
     "output_type": "stream",
     "text": [
      "98.2 µs ± 2.31 µs per loop (mean ± std. dev. of 7 runs, 10000 loops each)\n",
      "9.43 ms ± 96.5 µs per loop (mean ± std. dev. of 7 runs, 100 loops each)\n"
     ]
    }
   ],
   "source": [
    "test_list = np.random.rand(100000)\n",
    "\n",
    "%timeit average(test_list)\n",
    "%timeit average_pure_python(test_list)"
   ]
  },
  {
   "cell_type": "markdown",
   "metadata": {},
   "source": [
    "### As always, this is a massive, complicated tool that has a lot more to offer than I've shown, as well as other limitations I've not mentioned. This guide is only intended as an introduction / something to try to quickly get some speedups cheaply"
   ]
  },
  {
   "cell_type": "code",
   "execution_count": null,
   "metadata": {},
   "outputs": [],
   "source": []
  }
 ],
 "metadata": {
  "kernelspec": {
   "display_name": "Python 3",
   "language": "python",
   "name": "python3"
  },
  "language_info": {
   "codemirror_mode": {
    "name": "ipython",
    "version": 3
   },
   "file_extension": ".py",
   "mimetype": "text/x-python",
   "name": "python",
   "nbconvert_exporter": "python",
   "pygments_lexer": "ipython3",
   "version": "3.6.7"
  }
 },
 "nbformat": 4,
 "nbformat_minor": 2
}
