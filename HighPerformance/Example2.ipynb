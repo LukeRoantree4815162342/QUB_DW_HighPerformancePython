{
 "cells": [
  {
   "cell_type": "markdown",
   "metadata": {},
   "source": [
    "<span><h1 style=\"color:#4987FF\">\n",
    "Speed-Optimisation for Scientific Python\n",
    "</h1></span>"
   ]
  },
  {
   "cell_type": "markdown",
   "metadata": {},
   "source": [
    "# Target Audience:\n",
    "\n",
    "### People with -\n",
    "* Basic working knowledge of python and common maths/science libraries (numpy, scipy)\n",
    "\n",
    "* A functioning Python3 installation. (Python 2 should also be fine but may require minor changes to some parts of the code)\n",
    "\n",
    "* Ability to install the following modules/libraries\n",
    "\n",
    "> \"pip install timeit\"\n",
    "\n",
    "> \"pip install cython\" <- not needed with Anaconda\n",
    "\n",
    "> \"pip install py-heat-magic\"\n",
    "\n",
    "> \"pip install line_profiler\"\n",
    "\n",
    "> \"pip install numba\"\n",
    "\n",
    "* (preferably) basic knowledge of Jupyter Notebooks. (Some slight differences in some techniques if replicated on the REPL or in a script)"
   ]
  },
  {
   "cell_type": "code",
   "execution_count": 1,
   "metadata": {},
   "outputs": [
    {
     "name": "stderr",
     "output_type": "stream",
     "text": [
      "WARNING: Disabling color, you really want to install colorlog.\n"
     ]
    }
   ],
   "source": [
    "%load_ext Cython\n",
    "#%load_ext line_profiler\n",
    "#%load_ext heat\n",
    "import timeit\n",
    "from functools import lru_cache as cache\n",
    "from numba import jit, autojit, int64\n",
    "import numpy as np\n",
    "from numpy import linalg as LA"
   ]
  },
  {
   "cell_type": "markdown",
   "metadata": {},
   "source": [
    "<span><h1 style=\"color:#4987FF\">\n",
    "Example 2: An inefficient fibonacci generator\n",
    "</h1></span>\n",
    "### First a look at the base case; what we will be trying to improve"
   ]
  },
  {
   "cell_type": "code",
   "execution_count": 2,
   "metadata": {
    "collapsed": true
   },
   "outputs": [],
   "source": [
    "def regular_fib(n):\n",
    "    if n<2:\n",
    "        return n\n",
    "    return regular_fib(n-1)+regular_fib(n-2)"
   ]
  },
  {
   "cell_type": "markdown",
   "metadata": {},
   "source": [
    "### Now we see if compiling it in C and using static typing improves the speed"
   ]
  },
  {
   "cell_type": "code",
   "execution_count": 3,
   "metadata": {
    "collapsed": true
   },
   "outputs": [],
   "source": [
    "%%cython\n",
    "\n",
    "cpdef long cython_fib(long n):\n",
    "    if n<2:\n",
    "        return n\n",
    "    return cython_fib(n-1)+cython_fib(n-2)"
   ]
  },
  {
   "cell_type": "markdown",
   "metadata": {},
   "source": [
    "### Here we try using 'cacheing / memoization' - remembering the results of previous evaluations. \n",
    "### $\\therefore$ fib($n$) will only be calculated once $\\forall n \\leq 30$"
   ]
  },
  {
   "cell_type": "code",
   "execution_count": 2,
   "metadata": {},
   "outputs": [],
   "source": [
    "@cache(maxsize=None)\n",
    "def cacheing_fib(n):\n",
    "    if n<2:\n",
    "        return n\n",
    "    return cacheing_fib(n-1)+cacheing_fib(n-2)"
   ]
  },
  {
   "cell_type": "markdown",
   "metadata": {},
   "source": [
    "### Finally, we try using Numba's just-in-time compiler - this attempts to convert array / complex mathematical expressions into optimised machine code"
   ]
  },
  {
   "cell_type": "code",
   "execution_count": 5,
   "metadata": {
    "collapsed": true
   },
   "outputs": [],
   "source": [
    "@autojit\n",
    "def jit_fib(n):\n",
    "    if n<2:\n",
    "        return n\n",
    "    return jit_fib(n-1)+jit_fib(n-2)"
   ]
  },
  {
   "cell_type": "markdown",
   "metadata": {
    "collapsed": true
   },
   "source": [
    "## Results:"
   ]
  },
  {
   "cell_type": "code",
   "execution_count": 6,
   "metadata": {},
   "outputs": [
    {
     "name": "stdout",
     "output_type": "stream",
     "text": [
      "1 loop, best of 1: 1.57 s per loop\n",
      "\n",
      "\n",
      "\n",
      "1 loop, best of 1: 1.29 s per loop\n",
      "\n",
      "\n",
      "\n",
      "1 loop, best of 1: 12.6 ms per loop\n",
      "\n",
      "\n",
      "\n",
      "1 loop, best of 1: 75.5 µs per loop\n"
     ]
    }
   ],
   "source": [
    "%timeit -n1 -r1 regular_fib(30)\n",
    "print('\\n\\n')\n",
    "%timeit -n1 -r1 jit_fib(30)\n",
    "print('\\n\\n')\n",
    "%timeit -n1 -r1 cython_fib(30)\n",
    "print('\\n\\n')\n",
    "%timeit -n1 -r1 cacheing_fib(30)"
   ]
  },
  {
   "cell_type": "markdown",
   "metadata": {},
   "source": [
    "## Comments:\n"
   ]
  },
  {
   "cell_type": "code",
   "execution_count": 7,
   "metadata": {},
   "outputs": [
    {
     "name": "stdout",
     "output_type": "stream",
     "text": [
      "jit improvement ~ 1,000%\n",
      "cython improvement ~ 14,100%\n",
      "cacheing improvement ~ 2,410,000%\n"
     ]
    }
   ],
   "source": [
    "# TODO: re-evaluate the times\n",
    "print(\"jit improvement ~ {:,.0f}%\".format(round(100*(1.74 / 175e-3),-2)))\n",
    "print(\"cython improvement ~ {:,.0f}%\".format(round(100*(1.74 / 12.3e-3),-2)))\n",
    "print(\"cacheing improvement ~ {:,.0f}%\".format(round(100*(1.74 / 72.3e-6),-4)))"
   ]
  },
  {
   "cell_type": "code",
   "execution_count": 8,
   "metadata": {
    "collapsed": true
   },
   "outputs": [],
   "source": [
    "%lprun -f regular_fib regular_fib(30)\n",
    "# Just showing the line profiler being used"
   ]
  },
  {
   "cell_type": "code",
   "execution_count": 3,
   "metadata": {},
   "outputs": [],
   "source": [
    "# Here's my attempt at a maximally optimised version, mixes in some mathematical optimisation with computational optimisation\n",
    "# This isn't what this talk is focusing on, just showing that you don't need to choose between one method or the other\n",
    "\n",
    "@cache(maxsize=None)\n",
    "def luke_fib(n):\n",
    "    if (n<2):\n",
    "        return n\n",
    "    if n%2!=0:\n",
    "        return luke_fib((n+1)//2)**2 + luke_fib((n-1)//2)**2\n",
    "    half = luke_fib(n//2)\n",
    "    return half**2 + 2*half*luke_fib(n//2 -1)"
   ]
  },
  {
   "cell_type": "code",
   "execution_count": 4,
   "metadata": {},
   "outputs": [
    {
     "name": "stdout",
     "output_type": "stream",
     "text": [
      "36.1 µs ± 0 ns per loop (mean ± std. dev. of 1 run, 1 loop each)\n",
      "1.09 ms ± 0 ns per loop (mean ± std. dev. of 1 run, 1 loop each)\n"
     ]
    }
   ],
   "source": [
    "%timeit -n1 -r1 luke_fib(900)\n",
    "%timeit -n1 -r1 cacheing_fib(900) \n",
    "# Comparing to the other 'most efficient' one\n",
    "# we see that optimizing mathematically as well as in the code lets us go ~20 times faster again"
   ]
  },
  {
   "cell_type": "code",
   "execution_count": 11,
   "metadata": {
    "collapsed": true
   },
   "outputs": [],
   "source": [
    "%%cython\n",
    "\n",
    "# Here we check if using a non-recursive method would have helped much\n",
    "\n",
    "cpdef long long non_recursive_fib(long n):\n",
    "    a,b = 0,1\n",
    "    for i in range(n-2):\n",
    "        a,b = b,b+a\n",
    "    return b"
   ]
  },
  {
   "cell_type": "code",
   "execution_count": 20,
   "metadata": {},
   "outputs": [
    {
     "name": "stdout",
     "output_type": "stream",
     "text": [
      "1 loop, best of 1: 783 µs per loop\n"
     ]
    },
    {
     "name": "stderr",
     "output_type": "stream",
     "text": [
      "Exception ignored in: '_cython_magic_b59f27d2215fefd63ec9f4a8d04c6d50.non_recursive_fib'\n",
      "OverflowError: int too big to convert\n"
     ]
    }
   ],
   "source": [
    "%timeit -n1 -r1 non_recursive_fib(1000)"
   ]
  },
  {
   "cell_type": "code",
   "execution_count": 16,
   "metadata": {},
   "outputs": [
    {
     "name": "stderr",
     "output_type": "stream",
     "text": [
      "Exception ignored in: '_cython_magic_b59f27d2215fefd63ec9f4a8d04c6d50.non_recursive_fib'\n",
      "OverflowError: int too big to convert\n"
     ]
    },
    {
     "data": {
      "text/plain": [
       "0"
      ]
     },
     "execution_count": 16,
     "metadata": {},
     "output_type": "execute_result"
    }
   ],
   "source": [
    "# That seems pretty fast, but what is that 'OverflowError' talking about?\n",
    "\n",
    "non_recursive_fib(1000)"
   ]
  },
  {
   "cell_type": "code",
   "execution_count": 17,
   "metadata": {},
   "outputs": [
    {
     "data": {
      "text/plain": [
       "43466557686937456435688527675040625802564660517371780402481729089536555417949051890403879840079255169295922593080322634775209689623239873322471161642996440906533187938298969649928516003704476137795166849228875"
      ]
     },
     "execution_count": 17,
     "metadata": {},
     "output_type": "execute_result"
    }
   ],
   "source": [
    "# We told cython to expect to output a 'long long' which is it's largest default type for an integer; so it allocated memory \n",
    "# for this output at the start. \n",
    "# However, the 1000th fibonacci number is far too big to fit into even this large pre-allocated memory, and so gave the above\n",
    "# OverflowError. \n",
    "# This is one place python has an advantage over strongly typed languages; it can allocate more memory as it \n",
    "# needs to, letting us evaluate the 1000th fibonacci number without complaining; \n",
    "\n",
    "luke_fib(1000)"
   ]
  }
 ],
 "metadata": {
  "kernelspec": {
   "display_name": "Python 3",
   "language": "python",
   "name": "python3"
  },
  "language_info": {
   "codemirror_mode": {
    "name": "ipython",
    "version": 3
   },
   "file_extension": ".py",
   "mimetype": "text/x-python",
   "name": "python",
   "nbconvert_exporter": "python",
   "pygments_lexer": "ipython3",
   "version": "3.6.7"
  }
 },
 "nbformat": 4,
 "nbformat_minor": 2
}
