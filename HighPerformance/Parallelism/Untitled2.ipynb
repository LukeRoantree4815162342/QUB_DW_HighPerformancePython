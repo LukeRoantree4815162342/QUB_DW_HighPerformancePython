{
 "cells": [
  {
   "cell_type": "code",
   "execution_count": 2,
   "metadata": {},
   "outputs": [],
   "source": [
    "from ipyparallel import Client\n",
    "rc = Client()"
   ]
  },
  {
   "cell_type": "code",
   "execution_count": 11,
   "metadata": {},
   "outputs": [
    {
     "name": "stdout",
     "output_type": "stream",
     "text": [
      "[stdout:0] process 0 of 6\n",
      "[stdout:1] process 1 of 6\n",
      "[stdout:2] process 2 of 6\n",
      "[stdout:3] process 3 of 6\n",
      "[stdout:4] process 4 of 6\n",
      "[stdout:5] process 5 of 6\n"
     ]
    }
   ],
   "source": [
    "%%px\n",
    "\n",
    "from mpi4py import MPI\n",
    "print(\"process {} of {}\".format(MPI.COMM_WORLD.Get_rank(), MPI.COMM_WORLD.Get_size()))"
   ]
  },
  {
   "cell_type": "code",
   "execution_count": 4,
   "metadata": {},
   "outputs": [
    {
     "name": "stdout",
     "output_type": "stream",
     "text": [
      "[stdout:0] 3\n",
      "[stdout:1] 3\n",
      "[stdout:2] 3\n",
      "[stdout:3] 3\n",
      "[stdout:4] 3\n",
      "[stdout:5] 3\n"
     ]
    }
   ],
   "source": [
    "%%px\n",
    "\n",
    "print(3)"
   ]
  },
  {
   "cell_type": "code",
   "execution_count": 17,
   "metadata": {},
   "outputs": [
    {
     "ename": "CompositeError",
     "evalue": "one or more exceptions from call to method: execute\n[4:execute]: NameError: name 'x' is not defined\n[5:execute]: NameError: name 'x' is not defined",
     "output_type": "error",
     "traceback": [
      "[4:execute]: ",
      "\u001b[0;31m---------------------------------------------------------------------------\u001b[0m\u001b[0;31mNameError\u001b[0m                                 Traceback (most recent call last)\u001b[0;32m<ipython-input-14-49ddf7c027c9>\u001b[0m in \u001b[0;36m<module>\u001b[0;34m\u001b[0m",
      "\u001b[1;32m      4\u001b[0m     \u001b[0mx\u001b[0m \u001b[0;34m=\u001b[0m \u001b[0;36m3\u001b[0m\u001b[0;34m\u001b[0m\u001b[0;34m\u001b[0m\u001b[0m",
      "\u001b[1;32m      5\u001b[0m \u001b[0;34m\u001b[0m\u001b[0m",
      "\u001b[0;32m----> 6\u001b[0;31m \u001b[0mprint\u001b[0m\u001b[0;34m(\u001b[0m\u001b[0mx\u001b[0m\u001b[0;34m)\u001b[0m\u001b[0;34m\u001b[0m\u001b[0;34m\u001b[0m\u001b[0m",
      "\u001b[0m\u001b[0;31mNameError\u001b[0m: name 'x' is not defined",
      "",
      "[5:execute]: ",
      "\u001b[0;31m---------------------------------------------------------------------------\u001b[0m\u001b[0;31mNameError\u001b[0m                                 Traceback (most recent call last)\u001b[0;32m<ipython-input-14-49ddf7c027c9>\u001b[0m in \u001b[0;36m<module>\u001b[0;34m\u001b[0m",
      "\u001b[1;32m      4\u001b[0m     \u001b[0mx\u001b[0m \u001b[0;34m=\u001b[0m \u001b[0;36m3\u001b[0m\u001b[0;34m\u001b[0m\u001b[0;34m\u001b[0m\u001b[0m",
      "\u001b[1;32m      5\u001b[0m \u001b[0;34m\u001b[0m\u001b[0m",
      "\u001b[0;32m----> 6\u001b[0;31m \u001b[0mprint\u001b[0m\u001b[0;34m(\u001b[0m\u001b[0mx\u001b[0m\u001b[0;34m)\u001b[0m\u001b[0;34m\u001b[0m\u001b[0;34m\u001b[0m\u001b[0m",
      "\u001b[0m\u001b[0;31mNameError\u001b[0m: name 'x' is not defined",
      ""
     ]
    }
   ],
   "source": [
    "%%px\n",
    "\n",
    "if MPI.COMM_WORLD.Get_rank() in (0,1,2,3):\n",
    "    x = 3\n",
    "    \n",
    "print(x)"
   ]
  },
  {
   "cell_type": "code",
   "execution_count": 27,
   "metadata": {},
   "outputs": [
    {
     "name": "stdout",
     "output_type": "stream",
     "text": [
      "[stdout:0] \n",
      "0.0001697540283203125\n",
      "6.134196519851685\n",
      "7695\n",
      "[stdout:1] \n",
      "0.0002567768096923828\n",
      "1.9645464420318604\n",
      "3591\n",
      "[stdout:2] \n",
      "0.0002510547637939453\n",
      "4.354041576385498\n",
      "6097\n",
      "[stdout:3] \n",
      "0.0002989768981933594\n",
      "3.311117649078369\n",
      "5045\n",
      "[stdout:4] \n",
      "0.0002830028533935547\n",
      "0.03733372688293457\n",
      "162\n",
      "[stdout:5] \n",
      "0.00024247169494628906\n",
      "0.8709454536437988\n",
      "2180\n"
     ]
    }
   ],
   "source": [
    "%%px\n",
    "\n",
    "import numpy as np\n",
    "from time import time\n",
    "\n",
    "start = time()\n",
    "x = np.random.randint(10000)\n",
    "print(time()-start)\n",
    "y = np.random.rand(x,x)\n",
    "z = y**5\n",
    "print(time() - start)\n",
    "    \n",
    "print(x)\n"
   ]
  },
  {
   "cell_type": "code",
   "execution_count": 22,
   "metadata": {},
   "outputs": [],
   "source": []
  },
  {
   "cell_type": "code",
   "execution_count": null,
   "metadata": {},
   "outputs": [],
   "source": []
  }
 ],
 "metadata": {
  "kernelspec": {
   "display_name": "Python 3",
   "language": "python",
   "name": "python3"
  },
  "language_info": {
   "codemirror_mode": {
    "name": "ipython",
    "version": 3
   },
   "file_extension": ".py",
   "mimetype": "text/x-python",
   "name": "python",
   "nbconvert_exporter": "python",
   "pygments_lexer": "ipython3",
   "version": "3.8.1"
  }
 },
 "nbformat": 4,
 "nbformat_minor": 2
}
