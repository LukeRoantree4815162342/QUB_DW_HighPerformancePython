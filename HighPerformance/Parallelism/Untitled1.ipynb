{
 "cells": [
  {
   "cell_type": "code",
   "execution_count": 11,
   "metadata": {},
   "outputs": [],
   "source": [
    "import numpy as np\n",
    "import matplotlib.pyplot as plt\n",
    "\n",
    "%matplotlib inline"
   ]
  },
  {
   "cell_type": "code",
   "execution_count": 75,
   "metadata": {},
   "outputs": [],
   "source": [
    "x = np.linspace(0.1,2,1000)"
   ]
  },
  {
   "cell_type": "code",
   "execution_count": 135,
   "metadata": {},
   "outputs": [
    {
     "data": {
      "image/png": "[encoded data removed]",
      "text/plain": [
       "<Figure size 432x288 with 1 Axes>"
      ]
     },
     "metadata": {},
     "output_type": "display_data"
    }
   ],
   "source": [
    "def test_func(x):\n",
    "    return np.tanh(x**(1/3) + x**(-3) - (3/2)*x**-1)\n",
    "\n",
    "index = 340\n",
    "\n",
    "plt.figure(1)\n",
    "#plt.axis('off')\n",
    "plt.ylim((0,1.1))\n",
    "plt.plot(x, test_func(x))\n",
    "#plt.plot(x[index], test_func(x)[index], 'o')\n",
    "#plt.subplot()\n",
    "#plt.fill([x[0],x[0],x[-1],x[-1]],[test_func(x[index]), 0, 0, test_func(x[index])], 'r', alpha=0.2)\n",
    "plt.fill_between(x, test_func(x), color='r', alpha=0.2)\n",
    "#plt.savefig('test_func_base.svg',transparent=True)"
   ]
  },
  {
   "cell_type": "code",
   "execution_count": 120,
   "metadata": {},
   "outputs": [
    {
     "data": {
      "text/plain": [
       "<Figure size 432x288 with 0 Axes>"
      ]
     },
     "metadata": {},
     "output_type": "display_data"
    }
   ],
   "source": [
    "#plt.savefig('test_func_base.png', dpi=200,transparent=True)"
   ]
  },
  {
   "cell_type": "code",
   "execution_count": null,
   "metadata": {},
   "outputs": [],
   "source": []
  }
 ],
 "metadata": {
  "kernelspec": {
   "display_name": "Python 3",
   "language": "python",
   "name": "python3"
  },
  "language_info": {
   "codemirror_mode": {
    "name": "ipython",
    "version": 3
   },
   "file_extension": ".py",
   "mimetype": "text/x-python",
   "name": "python",
   "nbconvert_exporter": "python",
   "pygments_lexer": "ipython3",
   "version": "3.6.7"
  }
 },
 "nbformat": 4,
 "nbformat_minor": 2
}
